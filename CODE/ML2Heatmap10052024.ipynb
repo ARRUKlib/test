{
  "cells": [
    {
      "cell_type": "code",
      "execution_count": 4,
      "metadata": {
        "colab": {
          "base_uri": "https://localhost:8080/"
        },
        "id": "sH3NNP4RjgrB",
        "outputId": "01986593-bdd9-42f7-b868-9f754dae3a06"
      },
      "outputs": [
        {
          "name": "stdout",
          "output_type": "stream",
          "text": [
            "Shape Data: (400, 11)\n"
          ]
        }
      ],
      "source": [
        "import pandas as pd\n",
        "\n",
        "\n",
        "df = pd.read_csv('GD1.csv')\n",
        "shape = df.shape\n",
        "\n",
        "\n",
        "print(\"Shape Data:\", shape)"
      ]
    },
    {
      "cell_type": "code",
      "execution_count": null,
      "metadata": {
        "colab": {
          "base_uri": "https://localhost:8080/"
        },
        "id": "oeiDF5x-NMl6",
        "outputId": "92d5088e-dc85-43c7-9f47-bc1c5d1071ae"
      },
      "outputs": [],
      "source": [
        "description = df.describe(percentiles=[.25, .5, .75, .90, .95, .99])\n",
        "\n",
        "\n",
        "print(\"ข้อมูลสถิติพื้นฐานของ DataFrame ของ ตัวอย่างชุดข้อมูลที่ 1 'SampleData-GD1-2' : \")\n",
        "print(description)"
      ]
    },
    {
      "cell_type": "code",
      "execution_count": null,
      "metadata": {
        "id": "iUg8lyJdhuc-"
      },
      "outputs": [],
      "source": [
        "df.drop('Date',axis=1,inplace=True)\n",
        "df.drop('Time',axis=1,inplace=True)\n",
        "df.drop('Date_Change_Grinding',axis=1,inplace=True)\n",
        "df.drop('Count_Grinding',axis=1,inplace=True)\n",
        "df.drop('chang_Grinding',axis=1,inplace=True)"
      ]
    },
    {
      "cell_type": "code",
      "execution_count": null,
      "metadata": {
        "id": "gf7MiuwUBTP0"
      },
      "outputs": [],
      "source": [
        "df.drop('chang_Grinding_I',axis=1,inplace=True)"
      ]
    },
    {
      "cell_type": "code",
      "execution_count": null,
      "metadata": {
        "colab": {
          "base_uri": "https://localhost:8080/",
          "height": 1000
        },
        "id": "f8vA8xYkkZPH",
        "outputId": "4b7a3ffd-a7fb-4dc0-f429-abf5d504acd6"
      },
      "outputs": [],
      "source": [
        "import seaborn as sns\n",
        "import matplotlib.pyplot as plt\n",
        "\n",
        "correlation = df.corr()\n",
        "\n",
        "plt.figure(figsize=(10, 6))\n",
        "sns.heatmap(correlation, annot=True, cmap='coolwarm', fmt=\".2f\")\n",
        "plt.title('Correlation Heatmap')\n",
        "plt.show()\n",
        "\n",
        "sns.pairplot(df)\n",
        "plt.show()"
      ]
    },
    {
      "cell_type": "code",
      "execution_count": null,
      "metadata": {
        "colab": {
          "base_uri": "https://localhost:8080/",
          "height": 507
        },
        "id": "NcUHu3uNrGDJ",
        "outputId": "91c21e28-1174-4b69-fa56-bcb5d5e6260b"
      },
      "outputs": [],
      "source": [
        "import matplotlib.pyplot as plt\n",
        "import seaborn as sns\n",
        "\n",
        "\n",
        "sns.boxplot(data=df)\n",
        "plt.xticks(rotation=50)\n",
        "plt.show()"
      ]
    },
    {
      "cell_type": "code",
      "execution_count": null,
      "metadata": {
        "colab": {
          "base_uri": "https://localhost:8080/",
          "height": 430
        },
        "id": "yl04vutPxSHa",
        "outputId": "692bd971-f63b-42c6-dac4-e879593b5027"
      },
      "outputs": [],
      "source": [
        "import matplotlib.pyplot as plt\n",
        "import numpy as np\n",
        "\n",
        "# สร้างข้อมูลแบบสุ่มที่เป็นระบบปกติ (normal distribution)\n",
        "data = np.random.normal(loc=0, scale=1, size=1000)\n",
        "\n",
        "# สร้างกราฟระฆังคว่ำ\n",
        "plt.hist(data, bins=30, density=True, alpha=0.6, color='b')\n",
        "\n",
        "# เพิ่มเส้นระบุค่าเฉลี่ยและส่วนเบี่ยงเบนมาตรฐาน\n",
        "mean = np.mean(data)\n",
        "std_dev = np.std(data)\n",
        "plt.axvline(mean, color='k', linestyle='dashed', linewidth=1)\n",
        "plt.axvline(mean + std_dev, color='r', linestyle='dashed', linewidth=1)\n",
        "plt.axvline(mean - std_dev, color='r', linestyle='dashed', linewidth=1)\n",
        "\n",
        "# แสดงกราฟ\n",
        "plt.show()\n"
      ]
    },
    {
      "cell_type": "code",
      "execution_count": null,
      "metadata": {
        "colab": {
          "base_uri": "https://localhost:8080/",
          "height": 430
        },
        "id": "KdecQ4MuxYu0",
        "outputId": "7278f45b-cdf5-4a9a-f686-c5475674f592"
      },
      "outputs": [],
      "source": [
        "import seaborn as sns\n",
        "import numpy as np\n",
        "\n",
        "# สร้างข้อมูลแบบสุ่มที่เป็นระบบปกติ (normal distribution)\n",
        "data = np.random.normal(loc=0, scale=1, size=1000)\n",
        "\n",
        "# สร้างกราฟระฆังคว่ำ\n",
        "sns.histplot(data, kde=True)\n",
        "\n",
        "# แสดงกราฟ\n",
        "plt.show()\n"
      ]
    },
    {
      "cell_type": "code",
      "execution_count": null,
      "metadata": {
        "colab": {
          "base_uri": "https://localhost:8080/",
          "height": 472
        },
        "id": "4Z91JJ3ixrqL",
        "outputId": "1be83f42-093a-4969-9a77-430174bc84c0"
      },
      "outputs": [],
      "source": [
        "import seaborn as sns\n",
        "import numpy as np\n",
        "\n",
        "# สร้างข้อมูลแบบสุ่มที่เป็นระบบปกติ (normal distribution)\n",
        "data = np.random.normal(loc=0, scale=1, size=1000)\n",
        "\n",
        "# สร้างกราฟระฆังคว่ำ\n",
        "sns.histplot(data, kde=True)\n",
        "\n",
        "# เพิ่มคำอธิบายในกราฟ\n",
        "plt.xlabel('Value')\n",
        "plt.ylabel('Frequency')\n",
        "plt.title('Histogram of Data')\n",
        "\n",
        "# แสดงกราฟ\n",
        "plt.show()\n"
      ]
    },
    {
      "cell_type": "code",
      "execution_count": null,
      "metadata": {
        "colab": {
          "base_uri": "https://localhost:8080/",
          "height": 472
        },
        "id": "kBkVl-Ttx7qy",
        "outputId": "1bab65de-6eac-412c-914a-80137788ac49"
      },
      "outputs": [],
      "source": [
        "import seaborn as sns\n",
        "import numpy as np\n",
        "\n",
        "# สร้างข้อมูลแบบสุ่มที่เป็นระบบปกติ (normal distribution)\n",
        "data = np.random.normal(loc=0, scale=1, size=1000)\n",
        "\n",
        "# สร้างกราฟระฆังคว่ำ\n",
        "sns.histplot(data, kde=True)\n",
        "\n",
        "# เพิ่มคำอธิบายในกราฟ\n",
        "plt.xlabel('Value')\n",
        "plt.ylabel('Frequency')\n",
        "plt.title('Histogram of Data')\n",
        "\n",
        "# คำนวณค่า Q และเปอร์เซ็นต์\n",
        "Q_25 = np.percentile(data, 25)\n",
        "Q_75 = np.percentile(data, 75)\n",
        "IQR = Q_75 - Q_25\n",
        "\n",
        "# แสดงค่า Q และเปอร์เซ็นต์บนกราฟ\n",
        "plt.text(Q_25, 50, f'Q1: {Q_25:.2f}', rotation=90, va='bottom', ha='center')\n",
        "plt.text(Q_75, 50, f'Q3: {Q_75:.2f}', rotation=90, va='bottom', ha='center')\n",
        "plt.text((Q_25 + Q_75) / 2, 40, f'IQR: {IQR:.2f}', rotation=90, va='bottom', ha='center')\n",
        "\n",
        "# แสดงกราฟ\n",
        "plt.show()\n"
      ]
    },
    {
      "cell_type": "code",
      "execution_count": null,
      "metadata": {
        "colab": {
          "base_uri": "https://localhost:8080/",
          "height": 472
        },
        "id": "Onyn7y-zyYab",
        "outputId": "be9d4f3e-f1c4-4e3f-fe41-8fa31c5da5ed"
      },
      "outputs": [],
      "source": [
        "import seaborn as sns\n",
        "import numpy as np\n",
        "import matplotlib.pyplot as plt\n",
        "\n",
        "# สร้างข้อมูลแบบสุ่มที่เป็นระบบปกติ (normal distribution)\n",
        "data = np.random.normal(loc=0, scale=1, size=1000)\n",
        "\n",
        "# สร้างกราฟระฆังคว่ำ\n",
        "sns.histplot(data, kde=True)\n",
        "\n",
        "# คำนวณค่า Q และเปอร์เซ็นต์\n",
        "Q1 = np.percentile(data, 25)\n",
        "Q3 = np.percentile(data, 75)\n",
        "IQR = Q3 - Q1\n",
        "\n",
        "# วาดเส้นประแบบ Q1 และ Q3 บนกราฟ\n",
        "plt.axvline(Q1, color='r', linestyle='--', label='Q1')\n",
        "plt.axvline(Q3, color='g', linestyle='--', label='Q3')\n",
        "\n",
        "# เพิ่มคำบ่งชี้ของ Q1 และ Q3\n",
        "plt.text(Q1, 50, f'Q1: {Q1:.2f}', rotation=90, va='bottom', ha='center')\n",
        "plt.text(Q3, 50, f'Q3: {Q3:.2f}', rotation=90, va='bottom', ha='center')\n",
        "\n",
        "# วาดเส้นประแบบ IQR\n",
        "plt.axvline(Q1 - 1.5 * IQR, color='b', linestyle='-', label='Q1 - 1.5*IQR')\n",
        "plt.axvline(Q3 + 1.5 * IQR, color='b', linestyle='-', label='Q3 + 1.5*IQR')\n",
        "\n",
        "# เพิ่มคำบ่งชี้ของ IQR\n",
        "plt.text(Q1 - 1.5 * IQR, 40, f'Q1 - 1.5*IQR: {Q1 - 1.5 * IQR:.2f}', rotation=90, va='bottom', ha='center')\n",
        "plt.text(Q3 + 1.5 * IQR, 40, f'Q3 + 1.5*IQR: {Q3 + 1.5 * IQR:.2f}', rotation=90, va='bottom', ha='center')\n",
        "\n",
        "# แสดงกราฟ\n",
        "plt.xlabel('Value')\n",
        "plt.ylabel('Frequency')\n",
        "plt.title('Histogram of Data')\n",
        "plt.legend()\n",
        "plt.show()\n"
      ]
    },
    {
      "cell_type": "code",
      "execution_count": null,
      "metadata": {
        "colab": {
          "base_uri": "https://localhost:8080/"
        },
        "id": "r8h_dbJhK1GC",
        "outputId": "c1021030-eb35-4608-dda2-cf5a429d99c6"
      },
      "outputs": [],
      "source": [
        "columns = df.columns.tolist()\n",
        "\n",
        "duplicates_count = {}\n",
        "\n",
        "for col in columns:\n",
        "    values = df[col].tolist()\n",
        "    unique_values = set(values)\n",
        "    count = 0\n",
        "    for val in unique_values:\n",
        "        if values.count(val) > 1:\n",
        "            count += 1\n",
        "    duplicates_count[col] = count\n",
        "\n",
        "print(\"จำนวนค่าที่ซ้ำกัน:\")\n",
        "for column, count in duplicates_count.items():\n",
        "    print(f\"{column}: {count}\")"
      ]
    }
  ],
  "metadata": {
    "colab": {
      "provenance": []
    },
    "kernelspec": {
      "display_name": "Python 3",
      "name": "python3"
    },
    "language_info": {
      "codemirror_mode": {
        "name": "ipython",
        "version": 3
      },
      "file_extension": ".py",
      "mimetype": "text/x-python",
      "name": "python",
      "nbconvert_exporter": "python",
      "pygments_lexer": "ipython3",
      "version": "3.11.7"
    }
  },
  "nbformat": 4,
  "nbformat_minor": 0
}
